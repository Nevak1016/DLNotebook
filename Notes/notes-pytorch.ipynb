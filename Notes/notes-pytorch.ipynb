{
 "cells": [
  {
   "cell_type": "markdown",
   "metadata": {},
   "source": [
    "## 记录pytorch中一些常用到的函数"
   ]
  },
  {
   "cell_type": "code",
   "execution_count": 2,
   "metadata": {},
   "outputs": [],
   "source": [
    "import torch\n"
   ]
  },
  {
   "cell_type": "markdown",
   "metadata": {},
   "source": [
    "### *torch.unsqueeze()*  \n",
    "在指定位置插入一个数值为1的维度"
   ]
  },
  {
   "cell_type": "code",
   "execution_count": 27,
   "metadata": {},
   "outputs": [
    {
     "name": "stdout",
     "output_type": "stream",
     "text": [
      "torch.Size([4])\n",
      "--> torch.Size([4, 1])\n",
      "torch.Size([2, 3])\n",
      "--> torch.Size([2, 1, 3])\n"
     ]
    }
   ],
   "source": [
    "# 一维\n",
    "a = torch.Tensor([1, 2, 3, 4])\n",
    "print(a.shape)\n",
    "a = a.unsqueeze(1)\n",
    "print('-->', a.shape)\n",
    "# 二维\n",
    "a = torch.Tensor([[1, 2, 3], [4, 5, 6]])\n",
    "print(a.shape)\n",
    "a = a.unsqueeze(1)\n",
    "print('-->', a.shape)\n"
   ]
  },
  {
   "cell_type": "markdown",
   "metadata": {},
   "source": [
    "### *torch.squeeze()*  \n",
    "删除指定位置的**数值为1**的维度"
   ]
  },
  {
   "cell_type": "code",
   "execution_count": 32,
   "metadata": {},
   "outputs": [
    {
     "name": "stdout",
     "output_type": "stream",
     "text": [
      "tensor([[[1., 2., 3.]],\n",
      "\n",
      "        [[4., 5., 6.]]]) torch.Size([2, 1, 3])\n",
      "tensor([[1., 2., 3.],\n",
      "        [4., 5., 6.]]) torch.Size([2, 3])\n"
     ]
    }
   ],
   "source": [
    "a = torch.Tensor([[[1, 2, 3]], [[4, 5, 6]]])\n",
    "print(a, a.shape)\n",
    "a = a.squeeze(1)\n",
    "print(a, a.shape)\n"
   ]
  },
  {
   "cell_type": "markdown",
   "metadata": {},
   "source": [
    "### *torch.transpose()*  \n",
    "交换两个维度"
   ]
  },
  {
   "cell_type": "code",
   "execution_count": 29,
   "metadata": {},
   "outputs": [
    {
     "name": "stdout",
     "output_type": "stream",
     "text": [
      "tensor([[[1., 2., 3.],\n",
      "         [4., 5., 6.]]]) torch.Size([1, 2, 3])\n",
      "--> tensor([[[1., 4.],\n",
      "         [2., 5.],\n",
      "         [3., 6.]]]) torch.Size([1, 3, 2])\n"
     ]
    }
   ],
   "source": [
    "a = torch.Tensor([[[1, 2, 3], [4, 5, 6]]])\n",
    "print(a, a.shape)\n",
    "a = a.transpose(1, 2)\n",
    "print('-->', a, a.shape)\n"
   ]
  }
 ],
 "metadata": {
  "kernelspec": {
   "display_name": "Python 3.8.13 ('DL')",
   "language": "python",
   "name": "python3"
  },
  "language_info": {
   "codemirror_mode": {
    "name": "ipython",
    "version": 3
   },
   "file_extension": ".py",
   "mimetype": "text/x-python",
   "name": "python",
   "nbconvert_exporter": "python",
   "pygments_lexer": "ipython3",
   "version": "3.8.13"
  },
  "orig_nbformat": 4,
  "vscode": {
   "interpreter": {
    "hash": "5044b4ebbb6060d7e2fcec1eca4190783b31816feac022105f28fd5325b2d5b7"
   }
  }
 },
 "nbformat": 4,
 "nbformat_minor": 2
}
