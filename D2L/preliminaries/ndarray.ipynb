{
 "cells": [
  {
   "cell_type": "markdown",
   "id": "bd557f5b",
   "metadata": {},
   "source": [
    "# 数据操作"
   ]
  },
  {
   "cell_type": "code",
   "execution_count": 1,
   "id": "69db24c5",
   "metadata": {},
   "outputs": [],
   "source": [
    "import torch"
   ]
  },
  {
   "cell_type": "markdown",
   "id": "d521e556",
   "metadata": {},
   "source": [
    "### arange(x): 从0开始创建一个长度为x的张量"
   ]
  },
  {
   "cell_type": "code",
   "execution_count": 2,
   "id": "758f1b6d",
   "metadata": {},
   "outputs": [
    {
     "data": {
      "text/plain": [
       "tensor([ 0,  1,  2,  3,  4,  5,  6,  7,  8,  9, 10, 11])"
      ]
     },
     "execution_count": 2,
     "metadata": {},
     "output_type": "execute_result"
    }
   ],
   "source": [
    "x = torch.arange(12)\n",
    "x"
   ]
  },
  {
   "cell_type": "markdown",
   "id": "bf8b12a3",
   "metadata": {},
   "source": [
    "### shape()：张量的形状"
   ]
  },
  {
   "cell_type": "code",
   "execution_count": 3,
   "id": "32227e31",
   "metadata": {},
   "outputs": [
    {
     "data": {
      "text/plain": [
       "torch.Size([12])"
      ]
     },
     "execution_count": 3,
     "metadata": {},
     "output_type": "execute_result"
    }
   ],
   "source": [
    "x.shape"
   ]
  },
  {
   "cell_type": "markdown",
   "id": "e874014a",
   "metadata": {},
   "source": [
    "### numel()：张量中元素的个数"
   ]
  },
  {
   "cell_type": "code",
   "execution_count": 4,
   "id": "78cdecc6",
   "metadata": {},
   "outputs": [
    {
     "data": {
      "text/plain": [
       "12"
      ]
     },
     "execution_count": 4,
     "metadata": {},
     "output_type": "execute_result"
    }
   ],
   "source": [
    "x.numel()"
   ]
  },
  {
   "cell_type": "markdown",
   "id": "a12870bb",
   "metadata": {},
   "source": [
    "### reshape()：改变张量的形状"
   ]
  },
  {
   "cell_type": "code",
   "execution_count": 5,
   "id": "08503681",
   "metadata": {},
   "outputs": [
    {
     "data": {
      "text/plain": [
       "tensor([[ 0,  1,  2,  3],\n",
       "        [ 4,  5,  6,  7],\n",
       "        [ 8,  9, 10, 11]])"
      ]
     },
     "execution_count": 5,
     "metadata": {},
     "output_type": "execute_result"
    }
   ],
   "source": [
    "X = x.reshape(3, 4)#可使用 x.reshape(-1,4) 或 x.reshape(3,-1) 替代\n",
    "X"
   ]
  },
  {
   "cell_type": "markdown",
   "id": "5d1c8d15",
   "metadata": {},
   "source": [
    "### zeros() ones() ：创建元素全为0或1的张量"
   ]
  },
  {
   "cell_type": "code",
   "execution_count": 6,
   "id": "310b1199",
   "metadata": {},
   "outputs": [
    {
     "data": {
      "text/plain": [
       "tensor([[[0., 0., 0., 0.],\n",
       "         [0., 0., 0., 0.],\n",
       "         [0., 0., 0., 0.]],\n",
       "\n",
       "        [[0., 0., 0., 0.],\n",
       "         [0., 0., 0., 0.],\n",
       "         [0., 0., 0., 0.]]])"
      ]
     },
     "execution_count": 6,
     "metadata": {},
     "output_type": "execute_result"
    }
   ],
   "source": [
    "torch.zeros((2, 3, 4))"
   ]
  },
  {
   "cell_type": "code",
   "execution_count": 7,
   "id": "cc531494",
   "metadata": {},
   "outputs": [
    {
     "data": {
      "text/plain": [
       "tensor([[[1., 1., 1., 1.],\n",
       "         [1., 1., 1., 1.],\n",
       "         [1., 1., 1., 1.]],\n",
       "\n",
       "        [[1., 1., 1., 1.],\n",
       "         [1., 1., 1., 1.],\n",
       "         [1., 1., 1., 1.]]])"
      ]
     },
     "execution_count": 7,
     "metadata": {},
     "output_type": "execute_result"
    }
   ],
   "source": [
    "torch.ones((2, 3, 4))"
   ]
  },
  {
   "cell_type": "markdown",
   "id": "910a729b",
   "metadata": {},
   "source": [
    "### randn()：根据正态分布创建张量"
   ]
  },
  {
   "cell_type": "code",
   "execution_count": 8,
   "id": "99d666c9",
   "metadata": {},
   "outputs": [
    {
     "data": {
      "text/plain": [
       "tensor([[-0.0442, -1.4390, -0.2584, -0.1696],\n",
       "        [-2.6017, -1.4791,  0.2987, -0.2523],\n",
       "        [ 1.9547, -0.7268,  0.7200,  1.6115]])"
      ]
     },
     "execution_count": 8,
     "metadata": {},
     "output_type": "execute_result"
    }
   ],
   "source": [
    "torch.randn(3,4)"
   ]
  },
  {
   "cell_type": "markdown",
   "id": "dc5af6a7",
   "metadata": {},
   "source": [
    "### 张量的一些数学运算"
   ]
  },
  {
   "cell_type": "code",
   "execution_count": 9,
   "id": "fc7a843a",
   "metadata": {},
   "outputs": [
    {
     "data": {
      "text/plain": [
       "(tensor([ 3.,  4.,  6., 10.]),\n",
       " tensor([-1.,  0.,  2.,  6.]),\n",
       " tensor([ 2.,  4.,  8., 16.]),\n",
       " tensor([0.5000, 1.0000, 2.0000, 4.0000]),\n",
       " tensor([ 1.,  4., 16., 64.]))"
      ]
     },
     "execution_count": 9,
     "metadata": {},
     "output_type": "execute_result"
    }
   ],
   "source": [
    "x = torch.tensor([1.0, 2, 4, 8])\n",
    "y = torch.tensor([2, 2, 2, 2])\n",
    "x + y, x - y, x * y, x / y, x ** y"
   ]
  },
  {
   "cell_type": "code",
   "execution_count": 10,
   "id": "b1245d7e",
   "metadata": {},
   "outputs": [
    {
     "data": {
      "text/plain": [
       "tensor([2.7183e+00, 7.3891e+00, 5.4598e+01, 2.9810e+03])"
      ]
     },
     "execution_count": 10,
     "metadata": {},
     "output_type": "execute_result"
    }
   ],
   "source": [
    "torch.exp(x)"
   ]
  },
  {
   "cell_type": "markdown",
   "id": "202ab580",
   "metadata": {},
   "source": [
    "## 对张量的一些操作"
   ]
  },
  {
   "cell_type": "code",
   "execution_count": 11,
   "id": "86889092",
   "metadata": {},
   "outputs": [
    {
     "data": {
      "text/plain": [
       "(tensor([[ 0.,  1.,  2.,  3.],\n",
       "         [ 4.,  5.,  6.,  7.],\n",
       "         [ 8.,  9., 10., 11.]]),\n",
       " tensor([[2., 1., 4., 3.],\n",
       "         [1., 2., 3., 4.],\n",
       "         [4., 3., 2., 1.]]))"
      ]
     },
     "execution_count": 11,
     "metadata": {},
     "output_type": "execute_result"
    }
   ],
   "source": [
    "X = torch.arange(12,dtype=torch.float32).reshape((3,4))\n",
    "Y = torch.tensor([[2.0, 1, 4, 3], [1, 2, 3, 4], [4, 3, 2, 1]])\n",
    "X,Y"
   ]
  },
  {
   "cell_type": "markdown",
   "id": "a4318445",
   "metadata": {},
   "source": [
    "### 张量的索引与切片"
   ]
  },
  {
   "cell_type": "code",
   "execution_count": 12,
   "id": "e11a0266",
   "metadata": {},
   "outputs": [
    {
     "data": {
      "text/plain": [
       "(tensor([ 8.,  9., 10., 11.]),\n",
       " tensor([[ 4.,  5.,  6.,  7.],\n",
       "         [ 8.,  9., 10., 11.]]))"
      ]
     },
     "execution_count": 12,
     "metadata": {},
     "output_type": "execute_result"
    }
   ],
   "source": [
    "X[-1],X[1:3]"
   ]
  },
  {
   "cell_type": "markdown",
   "id": "ebc8f125",
   "metadata": {},
   "source": [
    "### 单个或批量改变元素值"
   ]
  },
  {
   "cell_type": "code",
   "execution_count": 13,
   "id": "08c66054",
   "metadata": {},
   "outputs": [
    {
     "data": {
      "text/plain": [
       "tensor([[ 0.,  1.,  2.,  3.],\n",
       "        [ 4.,  5.,  9.,  7.],\n",
       "        [ 8.,  9., 10., 11.]])"
      ]
     },
     "execution_count": 13,
     "metadata": {},
     "output_type": "execute_result"
    }
   ],
   "source": [
    "X[1, 2] = 9\n",
    "X"
   ]
  },
  {
   "cell_type": "code",
   "execution_count": 14,
   "id": "bd59512b",
   "metadata": {},
   "outputs": [
    {
     "data": {
      "text/plain": [
       "tensor([[33., 33., 33., 33.],\n",
       "        [33., 33., 33., 33.],\n",
       "        [ 8.,  9., 10., 11.]])"
      ]
     },
     "execution_count": 14,
     "metadata": {},
     "output_type": "execute_result"
    }
   ],
   "source": [
    "X[0:2,:] = 33\n",
    "X"
   ]
  },
  {
   "cell_type": "markdown",
   "id": "c92e17c0",
   "metadata": {},
   "source": [
    "### 按维度拼接张量"
   ]
  },
  {
   "cell_type": "code",
   "execution_count": 15,
   "id": "aaa95a9f",
   "metadata": {},
   "outputs": [
    {
     "data": {
      "text/plain": [
       "(tensor([[33., 33., 33., 33.],\n",
       "         [33., 33., 33., 33.],\n",
       "         [ 8.,  9., 10., 11.],\n",
       "         [ 2.,  1.,  4.,  3.],\n",
       "         [ 1.,  2.,  3.,  4.],\n",
       "         [ 4.,  3.,  2.,  1.]]),\n",
       " tensor([[33., 33., 33., 33.,  2.,  1.,  4.,  3.],\n",
       "         [33., 33., 33., 33.,  1.,  2.,  3.,  4.],\n",
       "         [ 8.,  9., 10., 11.,  4.,  3.,  2.,  1.]]))"
      ]
     },
     "execution_count": 15,
     "metadata": {},
     "output_type": "execute_result"
    }
   ],
   "source": [
    "torch.cat((X,Y),dim=0),torch.cat((X,Y),dim=1)"
   ]
  },
  {
   "cell_type": "markdown",
   "id": "e8c4f7e5",
   "metadata": {},
   "source": [
    "### 两个张量相等：所有对应位置的元素值相等"
   ]
  },
  {
   "cell_type": "code",
   "execution_count": 16,
   "id": "ddaed497",
   "metadata": {},
   "outputs": [
    {
     "data": {
      "text/plain": [
       "tensor([[False, False, False, False],\n",
       "        [False, False, False, False],\n",
       "        [False, False, False, False]])"
      ]
     },
     "execution_count": 16,
     "metadata": {},
     "output_type": "execute_result"
    }
   ],
   "source": [
    "X==Y"
   ]
  },
  {
   "cell_type": "markdown",
   "id": "e7f07c65",
   "metadata": {},
   "source": [
    "### sum()：张量中所有元素求和"
   ]
  },
  {
   "cell_type": "code",
   "execution_count": 17,
   "id": "849d7f3e",
   "metadata": {},
   "outputs": [
    {
     "data": {
      "text/plain": [
       "tensor(302.)"
      ]
     },
     "execution_count": 17,
     "metadata": {},
     "output_type": "execute_result"
    }
   ],
   "source": [
    "X.sum()"
   ]
  },
  {
   "cell_type": "markdown",
   "id": "5e0c80be",
   "metadata": {},
   "source": [
    "### 广播机制：若两个张量形状不一致则先统一到同一个形状"
   ]
  },
  {
   "cell_type": "code",
   "execution_count": 18,
   "id": "507474ea",
   "metadata": {},
   "outputs": [
    {
     "data": {
      "text/plain": [
       "(tensor([[0],\n",
       "         [1],\n",
       "         [2]]),\n",
       " tensor([[0, 1]]))"
      ]
     },
     "execution_count": 18,
     "metadata": {},
     "output_type": "execute_result"
    }
   ],
   "source": [
    "a = torch.arange(3).reshape((3, 1))\n",
    "b = torch.arange(2).reshape((1, 2))\n",
    "a, b"
   ]
  },
  {
   "cell_type": "code",
   "execution_count": 19,
   "id": "a84b6e06",
   "metadata": {},
   "outputs": [
    {
     "data": {
      "text/plain": [
       "tensor([[0, 1],\n",
       "        [1, 2],\n",
       "        [2, 3]])"
      ]
     },
     "execution_count": 19,
     "metadata": {},
     "output_type": "execute_result"
    }
   ],
   "source": [
    "# a复制了自己的列、b复制了自己的行\n",
    "a+b"
   ]
  },
  {
   "cell_type": "markdown",
   "id": "6f875810",
   "metadata": {},
   "source": [
    "## 转换为其他Python对象"
   ]
  },
  {
   "cell_type": "markdown",
   "id": "8f4a7078",
   "metadata": {},
   "source": [
    "### 转换为Numpy数组"
   ]
  },
  {
   "cell_type": "code",
   "execution_count": 20,
   "id": "33f60625",
   "metadata": {},
   "outputs": [
    {
     "data": {
      "text/plain": [
       "(numpy.ndarray, torch.Tensor)"
      ]
     },
     "execution_count": 20,
     "metadata": {},
     "output_type": "execute_result"
    }
   ],
   "source": [
    "A = X.numpy()\n",
    "B = torch.tensor(A)\n",
    "type(A), type(B)"
   ]
  },
  {
   "cell_type": "markdown",
   "id": "9639c4f7",
   "metadata": {},
   "source": [
    "### 大小为1的张量转为Python标量"
   ]
  },
  {
   "cell_type": "code",
   "execution_count": 21,
   "id": "beee70b9",
   "metadata": {},
   "outputs": [
    {
     "data": {
      "text/plain": [
       "(tensor([3.5000]), 3.5, 3.5, 3)"
      ]
     },
     "execution_count": 21,
     "metadata": {},
     "output_type": "execute_result"
    }
   ],
   "source": [
    "a = torch.tensor([3.5])\n",
    "a, a.item(), float(a), int(a)"
   ]
  }
 ],
 "metadata": {
  "interpreter": {
   "hash": "29050f0ce0020e4df94296537c6a3c46cd43d36ab6fbe5b573a6e5651834e262"
  },
  "kernelspec": {
   "display_name": "Python 3.8.13 ('D2L')",
   "language": "python",
   "name": "python3"
  },
  "language_info": {
   "codemirror_mode": {
    "name": "ipython",
    "version": 3
   },
   "file_extension": ".py",
   "mimetype": "text/x-python",
   "name": "python",
   "nbconvert_exporter": "python",
   "pygments_lexer": "ipython3",
   "version": "3.8.13"
  }
 },
 "nbformat": 4,
 "nbformat_minor": 5
}
