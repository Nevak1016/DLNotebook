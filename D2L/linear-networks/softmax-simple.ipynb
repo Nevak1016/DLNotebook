{
 "cells": [
  {
   "cell_type": "markdown",
   "id": "cb3289f2",
   "metadata": {},
   "source": [
    "# softmax的简洁实现"
   ]
  },
  {
   "cell_type": "code",
   "execution_count": 33,
   "id": "c720701c-aa1a-44d0-90bb-9481d3220c05",
   "metadata": {},
   "outputs": [],
   "source": [
    "import torch\n",
    "import torchvision\n",
    "from torch import nn\n",
    "from torch.utils import data\n",
    "from torchvision import transforms\n",
    "from d2l import torch as d2l\n"
   ]
  },
  {
   "cell_type": "code",
   "execution_count": 34,
   "id": "af56915b-55f5-4496-91de-a85920f55e6f",
   "metadata": {},
   "outputs": [],
   "source": [
    "def load_data_fashion_mnist(batch_size, resize=None):\n",
    "    trans = [transforms.ToTensor()]\n",
    "    if resize:\n",
    "        trans.insert(0, transforms.Resize(resize))\n",
    "    trans = transforms.Compose(trans)\n",
    "    mnist_train = torchvision.datasets.FashionMNIST(\n",
    "        root=\"../../mnist_data\", train=True, transform=trans, download=True)\n",
    "    mnist_test = torchvision.datasets.FashionMNIST(\n",
    "        root=\"../../mnist_data\", train=False, transform=trans, download=True)\n",
    "    return (data.DataLoader(mnist_train, batch_size, shuffle=True, num_workers=get_dataloader_works()),\n",
    "            data.DataLoader(mnist_test, batch_size, shuffle=True, num_workers=get_dataloader_works()))\n"
   ]
  },
  {
   "cell_type": "code",
   "execution_count": 35,
   "id": "83461ef6",
   "metadata": {},
   "outputs": [],
   "source": [
    "def get_dataloader_works():\n",
    "    # 使用4个进程读取数据\n",
    "    return 4\n"
   ]
  },
  {
   "cell_type": "code",
   "execution_count": 36,
   "id": "bc8a8c45",
   "metadata": {},
   "outputs": [],
   "source": [
    "batch_size = 256\n",
    "train_iter, test_iter = load_data_fashion_mnist(batch_size)\n"
   ]
  },
  {
   "cell_type": "markdown",
   "id": "1c5500d1",
   "metadata": {},
   "source": [
    "#### 初始化模型参数"
   ]
  },
  {
   "cell_type": "code",
   "execution_count": 37,
   "id": "5bfb1985",
   "metadata": {},
   "outputs": [],
   "source": [
    "net = nn.Sequential(nn.Flatten(), nn.Linear(784, 10))\n",
    "\n",
    "\n",
    "def init_weights(m):\n",
    "    if type(m) == nn.Linear:\n",
    "        nn.init.normal_(m.weight, std=0.01)\n",
    "\n",
    "\n",
    "net.apply(init_weights);\n"
   ]
  },
  {
   "cell_type": "code",
   "execution_count": 38,
   "id": "dc733cab",
   "metadata": {},
   "outputs": [],
   "source": [
    "\"\"\"\n",
    "'none'表示直接返回N个样本的loss,是一个向量\n",
    "'sum'指对N个样本的loss求和\n",
    "'elementwise_mean'为默认情况,N个loss求平均\n",
    "\"\"\"\n",
    "loss = nn.CrossEntropyLoss(reduction='none')\n"
   ]
  },
  {
   "cell_type": "code",
   "execution_count": 39,
   "id": "db67db18",
   "metadata": {},
   "outputs": [],
   "source": [
    "trainer = torch.optim.SGD(net.parameters(), lr=0.1)\n"
   ]
  },
  {
   "cell_type": "markdown",
   "id": "736747ae",
   "metadata": {},
   "source": [
    "#### 训练"
   ]
  },
  {
   "cell_type": "code",
   "execution_count": 40,
   "id": "290be43e",
   "metadata": {},
   "outputs": [],
   "source": [
    "def train_epoch(net, train_iter, loss, updater):\n",
    "    if isinstance(net, torch.nn.Module):\n",
    "        net.train()\n",
    "    metric = d2l.Accumulator(3)\n",
    "    for X, y in train_iter:\n",
    "        y_hat = net(X)\n",
    "        l = loss(y_hat, y) #此处l是一个向量，不能直接反向传播\n",
    "        if isinstance(updater, torch.optim.Optimizer):\n",
    "            # 使用Pytorch内置优化器和损失函数\n",
    "            updater.zero_grad()\n",
    "            l.mean().backward()\n",
    "            updater.step()\n",
    "        else:\n",
    "            l.sum().backward()\n",
    "            updater(X.shape[0])\n",
    "        metric.add(float(l.sum()), d2l.accuracy(y_hat, y), y.numel())\n",
    "        return metric[0] / metric[2], metric[1] / metric[2]\n"
   ]
  },
  {
   "cell_type": "code",
   "execution_count": 41,
   "id": "d5587976",
   "metadata": {},
   "outputs": [],
   "source": [
    "def train(net, train_iter, test_iter, loss, num_epochs, updater):\n",
    "    # animator = d2l.Animator(xlabel='epoch', xlim=[1, num_epochs], ylim=[\n",
    "    #                         0.3, 0.9], legend=['train loss', 'train acc', 'test acc'])\n",
    "    for epoch in range(num_epochs):\n",
    "        train_metrics = train_epoch(net, train_iter, loss, updater)\n",
    "        test_acc = d2l.evaluate_accuracy(net, test_iter)\n",
    "        # animator.add(epoch+1, train_metrics+(test_acc,))\n",
    "        c_train_loss, c_train_acc = train_metrics\n",
    "        print('epoch:%d train_loss:%.4f train_acc:%.2f test_acc:%.2f' % (epoch+1,c_train_loss,c_train_acc,test_acc))\n",
    "    train_loss, train_acc = train_metrics\n",
    "    assert train_loss < 0.5, train_loss\n",
    "    assert train_acc <= 1 and train_acc > 0.7, train_acc\n",
    "    assert test_acc <= 1 and test_acc > 0.7, test_acc\n"
   ]
  },
  {
   "cell_type": "code",
   "execution_count": 42,
   "id": "c8c8451b",
   "metadata": {},
   "outputs": [
    {
     "name": "stdout",
     "output_type": "stream",
     "text": [
      "epoch:1 train_loss:2.3206 train_acc:0.11 test_acc:0.13\n",
      "epoch:2 train_loss:2.1254 train_acc:0.13 test_acc:0.48\n",
      "epoch:3 train_loss:1.9675 train_acc:0.46 test_acc:0.59\n",
      "epoch:4 train_loss:1.8187 train_acc:0.58 test_acc:0.60\n",
      "epoch:5 train_loss:1.7096 train_acc:0.60 test_acc:0.49\n",
      "epoch:6 train_loss:1.6122 train_acc:0.55 test_acc:0.63\n",
      "epoch:7 train_loss:1.5648 train_acc:0.63 test_acc:0.61\n",
      "epoch:8 train_loss:1.5579 train_acc:0.56 test_acc:0.54\n",
      "epoch:9 train_loss:1.4184 train_acc:0.59 test_acc:0.60\n",
      "epoch:10 train_loss:1.3529 train_acc:0.62 test_acc:0.63\n",
      "epoch:11 train_loss:1.2607 train_acc:0.69 test_acc:0.65\n",
      "epoch:12 train_loss:1.2115 train_acc:0.72 test_acc:0.58\n",
      "epoch:13 train_loss:1.3085 train_acc:0.56 test_acc:0.63\n",
      "epoch:14 train_loss:1.2499 train_acc:0.63 test_acc:0.65\n",
      "epoch:15 train_loss:1.1120 train_acc:0.73 test_acc:0.65\n",
      "epoch:16 train_loss:1.2236 train_acc:0.64 test_acc:0.66\n",
      "epoch:17 train_loss:1.1069 train_acc:0.70 test_acc:0.66\n",
      "epoch:18 train_loss:1.1364 train_acc:0.66 test_acc:0.65\n",
      "epoch:19 train_loss:1.0777 train_acc:0.70 test_acc:0.66\n",
      "epoch:20 train_loss:1.0690 train_acc:0.67 test_acc:0.64\n",
      "epoch:21 train_loss:1.1092 train_acc:0.60 test_acc:0.64\n",
      "epoch:22 train_loss:1.1090 train_acc:0.59 test_acc:0.67\n",
      "epoch:23 train_loss:1.0295 train_acc:0.67 test_acc:0.67\n",
      "epoch:24 train_loss:1.0206 train_acc:0.67 test_acc:0.68\n",
      "epoch:25 train_loss:1.0035 train_acc:0.71 test_acc:0.68\n",
      "epoch:26 train_loss:1.0165 train_acc:0.66 test_acc:0.68\n",
      "epoch:27 train_loss:0.9778 train_acc:0.70 test_acc:0.68\n",
      "epoch:28 train_loss:0.9234 train_acc:0.74 test_acc:0.65\n",
      "epoch:29 train_loss:1.1062 train_acc:0.60 test_acc:0.65\n",
      "epoch:30 train_loss:0.9815 train_acc:0.68 test_acc:0.67\n",
      "epoch:31 train_loss:0.9945 train_acc:0.66 test_acc:0.66\n",
      "epoch:32 train_loss:1.0052 train_acc:0.64 test_acc:0.67\n",
      "epoch:33 train_loss:0.9258 train_acc:0.66 test_acc:0.69\n",
      "epoch:34 train_loss:0.9424 train_acc:0.71 test_acc:0.70\n",
      "epoch:35 train_loss:0.9536 train_acc:0.71 test_acc:0.69\n",
      "epoch:36 train_loss:0.9011 train_acc:0.72 test_acc:0.69\n",
      "epoch:37 train_loss:0.8885 train_acc:0.71 test_acc:0.70\n",
      "epoch:38 train_loss:0.8469 train_acc:0.73 test_acc:0.69\n",
      "epoch:39 train_loss:0.8756 train_acc:0.75 test_acc:0.71\n",
      "epoch:40 train_loss:0.8159 train_acc:0.78 test_acc:0.71\n",
      "epoch:41 train_loss:0.8595 train_acc:0.76 test_acc:0.71\n",
      "epoch:42 train_loss:0.8672 train_acc:0.71 test_acc:0.71\n",
      "epoch:43 train_loss:0.8597 train_acc:0.73 test_acc:0.71\n",
      "epoch:44 train_loss:0.8586 train_acc:0.72 test_acc:0.71\n",
      "epoch:45 train_loss:0.8495 train_acc:0.73 test_acc:0.72\n",
      "epoch:46 train_loss:0.8042 train_acc:0.77 test_acc:0.71\n",
      "epoch:47 train_loss:0.8587 train_acc:0.68 test_acc:0.68\n",
      "epoch:48 train_loss:0.9176 train_acc:0.66 test_acc:0.71\n",
      "epoch:49 train_loss:0.8482 train_acc:0.72 test_acc:0.70\n",
      "epoch:50 train_loss:0.7986 train_acc:0.75 test_acc:0.73\n"
     ]
    },
    {
     "ename": "AssertionError",
     "evalue": "0.7986176609992981",
     "output_type": "error",
     "traceback": [
      "\u001b[1;31m---------------------------------------------------------------------------\u001b[0m",
      "\u001b[1;31mAssertionError\u001b[0m                            Traceback (most recent call last)",
      "\u001b[1;32md:\\Users\\94946\\JupyterFiles\\D2L_Pytorch\\linear-networks\\softmax-simple.ipynb Cell 13'\u001b[0m in \u001b[0;36m<cell line: 2>\u001b[1;34m()\u001b[0m\n\u001b[0;32m      <a href='vscode-notebook-cell:/d%3A/Users/94946/JupyterFiles/D2L_Pytorch/linear-networks/softmax-simple.ipynb#ch0000012?line=0'>1</a>\u001b[0m num_epochs\u001b[39m=\u001b[39m\u001b[39m50\u001b[39m\n\u001b[1;32m----> <a href='vscode-notebook-cell:/d%3A/Users/94946/JupyterFiles/D2L_Pytorch/linear-networks/softmax-simple.ipynb#ch0000012?line=1'>2</a>\u001b[0m train(net,train_iter,test_iter,loss,num_epochs,trainer)\n",
      "\u001b[1;32md:\\Users\\94946\\JupyterFiles\\D2L_Pytorch\\linear-networks\\softmax-simple.ipynb Cell 12'\u001b[0m in \u001b[0;36mtrain\u001b[1;34m(net, train_iter, test_iter, loss, num_epochs, updater)\u001b[0m\n\u001b[0;32m      <a href='vscode-notebook-cell:/d%3A/Users/94946/JupyterFiles/D2L_Pytorch/linear-networks/softmax-simple.ipynb#ch0000011?line=8'>9</a>\u001b[0m     \u001b[39mprint\u001b[39m(\u001b[39m'\u001b[39m\u001b[39mepoch:\u001b[39m\u001b[39m%d\u001b[39;00m\u001b[39m train_loss:\u001b[39m\u001b[39m%.4f\u001b[39;00m\u001b[39m train_acc:\u001b[39m\u001b[39m%.2f\u001b[39;00m\u001b[39m test_acc:\u001b[39m\u001b[39m%.2f\u001b[39;00m\u001b[39m'\u001b[39m \u001b[39m%\u001b[39m (epoch\u001b[39m+\u001b[39m\u001b[39m1\u001b[39m,c_train_loss,c_train_acc,test_acc))\n\u001b[0;32m     <a href='vscode-notebook-cell:/d%3A/Users/94946/JupyterFiles/D2L_Pytorch/linear-networks/softmax-simple.ipynb#ch0000011?line=9'>10</a>\u001b[0m train_loss, train_acc \u001b[39m=\u001b[39m train_metrics\n\u001b[1;32m---> <a href='vscode-notebook-cell:/d%3A/Users/94946/JupyterFiles/D2L_Pytorch/linear-networks/softmax-simple.ipynb#ch0000011?line=10'>11</a>\u001b[0m \u001b[39massert\u001b[39;00m train_loss \u001b[39m<\u001b[39m \u001b[39m0.5\u001b[39m, train_loss\n\u001b[0;32m     <a href='vscode-notebook-cell:/d%3A/Users/94946/JupyterFiles/D2L_Pytorch/linear-networks/softmax-simple.ipynb#ch0000011?line=11'>12</a>\u001b[0m \u001b[39massert\u001b[39;00m train_acc \u001b[39m<\u001b[39m\u001b[39m=\u001b[39m \u001b[39m1\u001b[39m \u001b[39mand\u001b[39;00m train_acc \u001b[39m>\u001b[39m \u001b[39m0.7\u001b[39m, train_acc\n\u001b[0;32m     <a href='vscode-notebook-cell:/d%3A/Users/94946/JupyterFiles/D2L_Pytorch/linear-networks/softmax-simple.ipynb#ch0000011?line=12'>13</a>\u001b[0m \u001b[39massert\u001b[39;00m test_acc \u001b[39m<\u001b[39m\u001b[39m=\u001b[39m \u001b[39m1\u001b[39m \u001b[39mand\u001b[39;00m test_acc \u001b[39m>\u001b[39m \u001b[39m0.7\u001b[39m, test_acc\n",
      "\u001b[1;31mAssertionError\u001b[0m: 0.7986176609992981"
     ]
    }
   ],
   "source": [
    "num_epochs=50\n",
    "train(net,train_iter,test_iter,loss,num_epochs,trainer)"
   ]
  }
 ],
 "metadata": {
  "interpreter": {
   "hash": "29050f0ce0020e4df94296537c6a3c46cd43d36ab6fbe5b573a6e5651834e262"
  },
  "kernelspec": {
   "display_name": "Python 3.8.13 ('D2L')",
   "language": "python",
   "name": "python3"
  },
  "language_info": {
   "codemirror_mode": {
    "name": "ipython",
    "version": 3
   },
   "file_extension": ".py",
   "mimetype": "text/x-python",
   "name": "python",
   "nbconvert_exporter": "python",
   "pygments_lexer": "ipython3",
   "version": "3.8.13"
  }
 },
 "nbformat": 4,
 "nbformat_minor": 5
}
